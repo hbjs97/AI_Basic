{
 "cells": [
  {
   "cell_type": "markdown",
   "metadata": {},
   "source": [
    "# Pandas"
   ]
  },
  {
   "cell_type": "markdown",
   "metadata": {},
   "source": [
    "## 데이터프레임의 열 다루기"
   ]
  },
  {
   "cell_type": "code",
   "execution_count": 1,
   "metadata": {},
   "outputs": [
    {
     "name": "stdout",
     "output_type": "stream",
     "text": [
      "    c0  c1\n",
      "r0   1   4\n",
      "r1   2   5\n",
      "r2   3   6 \n",
      "\n",
      "r0    1\n",
      "r1    2\n",
      "r2    3\n",
      "Name: c0, dtype: int64 \n",
      "\n",
      "r0    4\n",
      "r1    5\n",
      "r2    6\n",
      "Name: c1, dtype: int64 \n",
      "\n",
      "    c0  c1  c2\n",
      "r0   1   4   7\n",
      "r1   2   5   8\n",
      "r2   3   6   9 \n",
      "\n",
      "    c0  c1  c2  c3\n",
      "r0   1   4   7   0\n",
      "r1   2   5   8   0\n",
      "r2   3   6   9   0 \n",
      "\n",
      "    c0  c1  c2  c3  c4\n",
      "r0   1   4   7   0   0\n",
      "r1   2   5   8   0   0\n",
      "r2   3   6   9   0   0 \n",
      "\n",
      "    c0  c1  c2  c3  c4\n",
      "r0   1   4   7  10   0\n",
      "r1   2   5   8  11   0\n",
      "r2   3   6   9  12   0 \n",
      "\n",
      "    c0  c1  c2  c3  c4\n",
      "r0   1   4   7   0   0\n",
      "r1   2   5   8   0   0\n",
      "r2   3   6   9   0   0 \n",
      "\n",
      "    c0  c1  c2  c3\n",
      "r0   1   4   7   0\n",
      "r1   2   5   8   0\n",
      "r2   3   6   9   0 \n",
      "\n",
      "    c0  c2\n",
      "r0   1   7\n",
      "r1   2   8\n",
      "r2   3   9\n"
     ]
    }
   ],
   "source": [
    "import pandas as pd\n",
    "\n",
    "dict_data = {'c0':[1,2,3], 'c1':[4, 5, 6]} \n",
    "df = pd.DataFrame(dict_data, index=['r0', 'r1', 'r2'])  \n",
    "print(df, \"\\n\") \n",
    "\n",
    "col0 = df['c0']\n",
    "col1 = df.c1\n",
    "\n",
    "print(col0, \"\\n\")\n",
    "print(col1, \"\\n\")\n",
    "\n",
    "df['c2'] = 7, 8, 9\n",
    "print(df, \"\\n\") \n",
    "\n",
    "df['c3'] = 0\n",
    "print(df, \"\\n\") \n",
    "\n",
    "df['c4'] = df['c3']\n",
    "print(df, \"\\n\") \n",
    "\n",
    "df['c3'] = 10, 11, 12\n",
    "print(df, \"\\n\") \n",
    "\n",
    "df['c3'] = 0\n",
    "print(df, \"\\n\") \n",
    "\n",
    "df.drop('c4', axis=1, inplace=True)\n",
    "print(df, \"\\n\") \n",
    "\n",
    "df.drop(['c1','c3'], axis=1, inplace=True)\n",
    "print(df) "
   ]
  },
  {
   "cell_type": "markdown",
   "metadata": {},
   "source": [
    "## 데이터프레임의 행 다루기"
   ]
  },
  {
   "cell_type": "code",
   "execution_count": 2,
   "metadata": {},
   "outputs": [
    {
     "name": "stdout",
     "output_type": "stream",
     "text": [
      "    c0  c1\n",
      "r0   1   4\n",
      "r1   2   5\n",
      "r2   3   6 \n",
      "\n",
      "c0    1\n",
      "c1    4\n",
      "Name: r0, dtype: int64 \n",
      "\n",
      "c0    2\n",
      "c1    5\n",
      "Name: r1, dtype: int64 \n",
      "\n",
      "c0    3\n",
      "c1    6\n",
      "Name: r2, dtype: int64 \n",
      "\n",
      "    c0  c1\n",
      "r0   1   4\n",
      "r1   2   5\n",
      "r2   3   6\n",
      "r3  10  20 \n",
      "\n",
      "    c0  c1\n",
      "r0   1   4\n",
      "r1   2   5\n",
      "r2   3   6\n",
      "r3  10  20\n",
      "r4   0   0 \n",
      "\n",
      "    c0  c1\n",
      "r0   1   4\n",
      "r1   2   5\n",
      "r2   3   6\n",
      "r3   0   0\n",
      "r4   0   0 \n",
      "\n",
      "    c0  c1\n",
      "r0   1   4\n",
      "r1   2   5\n",
      "r2   3   6\n",
      "r3   0   0 \n",
      "\n",
      "    c0  c1\n",
      "r0   1   4\n",
      "r2   3   6\n"
     ]
    }
   ],
   "source": [
    "import pandas as pd\n",
    "\n",
    "dict_data = {'c0':[1,2,3], 'c1':[4, 5, 6]} \n",
    "df = pd.DataFrame(dict_data, index=['r0', 'r1', 'r2'])  \n",
    "print(df, \"\\n\") \n",
    "\n",
    "row0 = df.iloc[0]\n",
    "row1 = df.iloc[1]\n",
    "row2 = df.loc['r2']\n",
    "\n",
    "print(row0, \"\\n\")\n",
    "print(row1, \"\\n\")\n",
    "print(row2, \"\\n\")\n",
    "\n",
    "df.loc['r3'] = 10, 20\n",
    "print(df, \"\\n\") \n",
    "\n",
    "df.loc['r4'] = 0\n",
    "print(df, \"\\n\") \n",
    "\n",
    "df.loc['r3'] = df.loc['r4']\n",
    "print(df, \"\\n\") \n",
    "\n",
    "df.drop('r4', axis=0, inplace=True)\n",
    "print(df, \"\\n\") \n",
    "\n",
    "df.drop(['r1','r3'], axis=0, inplace=True)\n",
    "print(df) "
   ]
  },
  {
   "cell_type": "markdown",
   "metadata": {},
   "source": [
    "## 데이터프레임의 원소 다루기"
   ]
  },
  {
   "cell_type": "code",
   "execution_count": 3,
   "metadata": {},
   "outputs": [
    {
     "name": "stdout",
     "output_type": "stream",
     "text": [
      "    c0  c1\n",
      "r0   1   4\n",
      "r1   2   5\n",
      "r2   3   6 \n",
      "\n",
      "4 \n",
      "\n",
      "5 \n",
      "\n",
      "6 \n",
      "\n",
      "    c0  c1\n",
      "r1   2   5\n",
      "r2   3   6 \n",
      "\n",
      "    c0  c1\n",
      "r1   2   5\n",
      "r2   3   6 \n",
      "\n",
      "    c0  c1\n",
      "r0   1  40\n",
      "r1   2   5\n",
      "r2   3   6 \n",
      "\n",
      "    c0  c1\n",
      "r0   1  40\n",
      "r1   0   0\n",
      "r2   0   0\n"
     ]
    }
   ],
   "source": [
    "import pandas as pd\n",
    "\n",
    "dict_data = {'c0':[1,2,3], 'c1':[4, 5, 6]} \n",
    "df = pd.DataFrame(dict_data, index=['r0', 'r1', 'r2'])  \n",
    "print(df, \"\\n\") \n",
    "\n",
    "el_01 = df.iloc[0,1]\n",
    "print(el_01, \"\\n\")\n",
    "\n",
    "el_11 = df.iloc[1,1]\n",
    "print(el_11, \"\\n\")\n",
    "\n",
    "el_21 = df.loc['r2','c1']\n",
    "print(el_21, \"\\n\")\n",
    "\n",
    "el_12_01 = df.loc['r1':'r2','c0':'c1']\n",
    "print(el_12_01, \"\\n\")\n",
    "\n",
    "el_12_01_iloc = df.iloc[1:3, 0:2]\n",
    "print(el_12_01, \"\\n\")\n",
    "\n",
    "df.iloc[0,1] = 40\n",
    "print(df, \"\\n\") \n",
    "\n",
    "df.iloc[1:3, 0:2] = 0\n",
    "print(df) "
   ]
  },
  {
   "cell_type": "markdown",
   "metadata": {},
   "source": [
    "## 데이터프레임을 외부 파일로 저장하기"
   ]
  },
  {
   "cell_type": "code",
   "execution_count": 4,
   "metadata": {},
   "outputs": [
    {
     "name": "stdout",
     "output_type": "stream",
     "text": [
      "    c0  c1\n",
      "r0   1   4\n",
      "r1   2   5\n",
      "r2   3   6 \n",
      "\n"
     ]
    }
   ],
   "source": [
    "import pandas as pd\n",
    "\n",
    "dict_data = {'c0':[1,2,3], 'c1':[4, 5, 6]} \n",
    "df = pd.DataFrame(dict_data, index=['r0', 'r1', 'r2'])  \n",
    "print(df, \"\\n\") \n",
    "\n",
    "df.to_csv(\"df.csv\")\n",
    "\n",
    "df.to_excel(\"df.xlsx\")"
   ]
  }
 ],
 "metadata": {
  "kernelspec": {
   "display_name": "Python 3",
   "language": "python",
   "name": "python3"
  },
  "language_info": {
   "codemirror_mode": {
    "name": "ipython",
    "version": 3
   },
   "file_extension": ".py",
   "mimetype": "text/x-python",
   "name": "python",
   "nbconvert_exporter": "python",
   "pygments_lexer": "ipython3",
   "version": "3.7.6"
  }
 },
 "nbformat": 4,
 "nbformat_minor": 4
}
